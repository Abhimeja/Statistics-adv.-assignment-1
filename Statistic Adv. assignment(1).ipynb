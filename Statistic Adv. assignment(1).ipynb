{
 "cells": [
  {
   "cell_type": "raw",
   "id": "220c8dbb-c9c5-43c0-b512-c508112f92cf",
   "metadata": {},
   "source": [
    "Q1. What is the Probability density function?\n",
    "\n",
    "Ans--"
   ]
  },
  {
   "cell_type": "markdown",
   "id": "ea30c711-1a87-471e-b879-31856451df93",
   "metadata": {},
   "source": [
    "The Probability Density Function (PDF) is a fundamental concept in probability and statistics. It is used to describe the probability distribution of a continuous random variable. In simpler terms, the PDF provides a way to represent the likelihood of a continuous random variable taking on a particular value or falling within a specific range of values.\n",
    "\n",
    "For a continuous random variable X, the PDF is denoted as f(x) and is defined as follows:\n",
    "\n",
    "Non-negative values: The PDF must be non-negative for all values of x, meaning f(x) ≥ 0 for all x.\n",
    "\n",
    "Total area under the curve: The area under the PDF curve over the entire range of possible values for X must be equal to 1. This reflects the fact that the total probability of all possible outcomes must equal 1.\n",
    "\n",
    "Mathematically, the probability of the random variable X falling within a certain interval [a, b] can be calculated using the PDF:\n",
    "\n",
    "P(a ≤ X ≤ b) = ∫[a to b] f(x) dx\n",
    "\n",
    "where ∫ represents the integral sign, and dx denotes the differential element.\n",
    "\n",
    "the Probability Density Function gives us a mathematical description of the likelihood of a continuous random variable taking specific values or ranges of values, allowing us to make probabilistic statements about the variable's behavior."
   ]
  },
  {
   "cell_type": "raw",
   "id": "15a93a1a-d7ce-41dd-a6a2-9b32d889f419",
   "metadata": {},
   "source": [
    "Q2. What are the types of Probability distribution?\n",
    "\n",
    "Ans--"
   ]
  },
  {
   "cell_type": "markdown",
   "id": "fc881ff5-4c79-4dbd-ae65-9b9cce7ae553",
   "metadata": {},
   "source": [
    "Probability distributions are mathematical functions that describe the likelihood of different outcomes or events in a random experiment or process. There are several types of probability distributions, and they can be broadly classified into two main categories: discrete probability distributions and continuous probability distributions.\n",
    "\n",
    "1.Discrete Probability Distributions:\n",
    "\n",
    "Discrete probability distributions are used when the random variable can only take on specific, isolated values with no intermediate possibilities. The probability mass function (PMF) represents the probabilities of each of these discrete values.\n",
    "\n",
    "Examples of discrete probability distributions include:\n",
    "\n",
    "--Bernoulli Distribution: Describes a binary outcome, where there are only two possible values (usually labeled as 0 and 1) with different probabilities.\n",
    "\n",
    "--Binomial Distribution: Represents the number of successes in a fixed number of independent Bernoulli trials.\n",
    "\n",
    "--Poisson Distribution: Models the number of events occurring in a fixed interval of time or space, assuming the events occur at a constant rate and independently of the time since the last event.\n",
    "\n",
    "2.Continuous Probability Distributions:\n",
    "\n",
    "Continuous probability distributions are used when the random variable can take any value within a specific range, and there are infinite possible values. The probability density function (PDF) represents the probabilities for various ranges of values.\n",
    "\n",
    "Examples of continuous probability distributions include:\n",
    "\n",
    "--Normal (Gaussian) Distribution: One of the most commonly used distributions, often representing real-world measurements affected by many small, random factors.\n",
    "\n",
    "--Uniform Distribution: Represents a continuous random variable with equal probability across a defined interval.\n",
    "\n",
    "--Exponential Distribution: Models the time between events in a Poisson process, such as the time between arrivals in a queue.\n",
    "\n",
    "These are just a few examples of probability distributions. There are many other distributions that have specific use cases in various fields of statistics, data analysis, and probability theory. The choice of the appropriate distribution depends on the nature of the data and the characteristics of the random process being studied."
   ]
  },
  {
   "cell_type": "raw",
   "id": "b32f7a01-be83-4a95-bb0c-074b9ecc7b37",
   "metadata": {},
   "source": [
    "Q3. Write a Python function to calculate the probability density function of a normal distribution with\n",
    "given mean and standard deviation at a given point.\n",
    "\n",
    "Ans--"
   ]
  },
  {
   "cell_type": "markdown",
   "id": "d17b2a0c-3d03-4590-989a-db2fde07f3de",
   "metadata": {},
   "source": [
    "To calculate the probability density function (PDF) of a normal distribution at a given point (x) with a given mean (μ) and standard deviation (σ) in Python, you can use the scipy.stats.norm module, which provides functions for working with normal distributions. If you don't have it installed, you can install it using pip install scipy.\n",
    "\n",
    "Here's a Python function to calculate the PDF of a normal distribution:"
   ]
  },
  {
   "cell_type": "code",
   "execution_count": 1,
   "id": "7f060463-fa4b-493d-9db7-d73e1e4018db",
   "metadata": {},
   "outputs": [
    {
     "name": "stdout",
     "output_type": "stream",
     "text": [
      "Requirement already satisfied: scipy in /opt/conda/lib/python3.10/site-packages (1.9.3)\n",
      "Requirement already satisfied: numpy<1.26.0,>=1.18.5 in /opt/conda/lib/python3.10/site-packages (from scipy) (1.23.5)\n",
      "Note: you may need to restart the kernel to use updated packages.\n"
     ]
    }
   ],
   "source": [
    "pip install scipy"
   ]
  },
  {
   "cell_type": "code",
   "execution_count": 2,
   "id": "7bc66c21-33cf-40eb-be95-525de6f17768",
   "metadata": {},
   "outputs": [
    {
     "name": "stdout",
     "output_type": "stream",
     "text": [
      "The PDF value at x = 1.5 is: 0.12951759566589174\n"
     ]
    }
   ],
   "source": [
    "from scipy.stats import norm\n",
    "\n",
    "def normal_pdf(x, mean, std_dev):\n",
    "    \"\"\"\n",
    "    Calculate the probability density function (PDF) of a normal distribution\n",
    "    at a given point x with the given mean and standard deviation.\n",
    "\n",
    "    Parameters:\n",
    "        x (float): The point at which to calculate the PDF.\n",
    "        mean (float): The mean (or average) of the normal distribution.\n",
    "        std_dev (float): The standard deviation of the normal distribution.\n",
    "\n",
    "    Returns:\n",
    "        float: The probability density function value at the given point x.\n",
    "    \"\"\"\n",
    "    pdf_value = norm.pdf(x, mean, std_dev)\n",
    "    return pdf_value\n",
    "\n",
    "# Example usage:\n",
    "mean = 0.0\n",
    "std_dev = 1.0\n",
    "x = 1.5\n",
    "pdf_value_at_x = normal_pdf(x, mean, std_dev)\n",
    "print(f\"The PDF value at x = {x} is: {pdf_value_at_x}\")\n"
   ]
  },
  {
   "cell_type": "markdown",
   "id": "264e967f-60fd-4cd5-99fd-babd75fd931e",
   "metadata": {},
   "source": [
    "In this function, we use norm.pdf(x, mean, std_dev) from the scipy.stats.norm module to calculate the PDF of the normal distribution at the specified point x with the given mean and std_dev. The result pdf_value represents the probability density at that point, and it is returned by the function.\n",
    "\n",
    "Remember to replace mean, std_dev, and x with the appropriate values for your specific case. The mean is the center of the distribution, and std_dev controls the spread or width of the distribution. The function will then return the PDF value at the specified point x."
   ]
  },
  {
   "cell_type": "raw",
   "id": "6e4a7bad-fcc1-4cb4-b96e-5b4cc471554b",
   "metadata": {},
   "source": [
    "Q4. What are the properties of Binomial distribution? Give two examples of events where binomial\n",
    "distribution can be applied.\n",
    "\n",
    "Ans--"
   ]
  },
  {
   "cell_type": "markdown",
   "id": "4d8086ef-b37a-4934-be76-23ce27d2e293",
   "metadata": {},
   "source": [
    "The Binomial distribution is a discrete probability distribution that describes the number of successes in a fixed number of independent Bernoulli trials. It has several properties that make it widely used in probability and statistics:\n",
    "\n",
    "Properties of the Binomial distribution:\n",
    "\n",
    "1.Discreteness: The Binomial distribution is a discrete distribution, meaning that the random variable only takes on whole number values.\n",
    "\n",
    "2.Fixed Number of Trials: The distribution is defined for a fixed number of trials (n), which represents the number of independent experiments or Bernoulli trials.\n",
    "\n",
    "3.Independent Trials: Each trial must be independent of the others, meaning the outcome of one trial does not influence the outcomes of other trials.\n",
    "\n",
    "4.Constant Probability: The probability of success (p) remains constant for each trial. It represents the probability of the event occurring on any given trial.\n",
    "\n",
    "5.Two Possible Outcomes: Each trial can have two possible outcomes: success (usually denoted as 1) or failure (usually denoted as 0).\n",
    "\n",
    "6.Probability Mass Function (PMF): The probability mass function of the Binomial distribution gives the probability of obtaining a specific number of successes (k) in n trials.\n",
    "\n",
    "Two examples of events where the Binomial distribution can be applied are:\n",
    "\n",
    "1.Coin Toss: Consider flipping a fair coin (where the probability of getting a head, p, is 0.5) ten times. The number of heads obtained in these ten flips follows a Binomial distribution. The probability mass function will give the probability of obtaining 0, 1, 2, 3, ..., 10 heads in the ten coin tosses.\n",
    "\n",
    "2.Defective Products: Suppose a manufacturing company produces a large batch of items, and each item has a probability of p being defective. If we randomly select n items from the batch and count the number of defective items, the distribution of the number of defective items will follow a Binomial distribution.\n",
    "\n",
    "In both examples, we have a fixed number of trials (n) with two possible outcomes (success or failure) in each trial, making the Binomial distribution an appropriate model for these scenarios."
   ]
  },
  {
   "cell_type": "raw",
   "id": "e51ef956-1ba3-406b-947f-4674b2cb2b34",
   "metadata": {},
   "source": [
    "Q5. Generate a random sample of size 1000 from a binomial distribution with probability of success 0.4\n",
    "and plot a histogram of the results using matplotlib.\n",
    "\n",
    "Ans--"
   ]
  },
  {
   "cell_type": "markdown",
   "id": "e40dc7fc-7126-4ea8-be9e-f5a63b9c07d3",
   "metadata": {},
   "source": [
    "To generate a random sample of size 1000 from a binomial distribution with a probability of success 0.4 and plot a histogram of the results using matplotlib, you can follow these steps in Python:"
   ]
  },
  {
   "cell_type": "code",
   "execution_count": 4,
   "id": "8d670e7d-55df-4d8e-93a7-f23d0251bd41",
   "metadata": {},
   "outputs": [
    {
     "data": {
      "image/png": "[encoded data removed]",
      "text/plain": [
       "<Figure size 640x480 with 1 Axes>"
      ]
     },
     "metadata": {},
     "output_type": "display_data"
    }
   ],
   "source": [
    "import numpy as np\n",
    "import matplotlib.pyplot as plt\n",
    "\n",
    "#Set parameter for binomial distribution\n",
    "\n",
    "probability_of_success=0.4\n",
    "sample_size=1000\n",
    "\n",
    "#Generate a random sample from the binomial distribution\n",
    "\n",
    "random_sample=np.random.binomial(1,probability_of_success,sample_size)\n",
    "\n",
    "#Plot the Histogram\n",
    "\n",
    "plt.hist(random_sample,bins=[-0.5,0.5,1.5],edgecolor='black',align='mid')\n",
    "plt.xticks([0,1],['Failure','Success'])\n",
    "plt.xlabel('Outcome')\n",
    "plt.ylabel('Frequency')\n",
    "plt.title('Histogram of Random sample from Binomial Distribution')\n",
    "plt.show()"
   ]
  },
  {
   "cell_type": "markdown",
   "id": "eea36b20-0622-4e57-b9ac-1d574142a490",
   "metadata": {},
   "source": [
    "Explanation:\n",
    "\n",
    "1.We import the necessary libraries: numpy for generating the random sample and matplotlib.pyplot for creating the histogram.\n",
    "\n",
    "2.We set the parameters of the binomial distribution: probability_of_success (p) as 0.4 and sample_size as 1000, the size of the random sample we want to generate.\n",
    "\n",
    "3.We use np.random.binomial(1, probability_of_success, sample_size) to generate the random sample. The binomial function generates samples from a binomial distribution with parameters (n, p), where n is the number of trials (in our case, 1, since we want to count the success or failure in each trial), and p is the probability of success (0.4 in this case).\n",
    "\n",
    "4.We then plot the histogram using plt.hist. We specify the bins as [0, 1], which correspond to the two possible outcomes (failure and success). We use edgecolor='black' to add black borders to the bars of the histogram for better visibility. The align='mid' parameter is used to center the bars on the tick marks.\n",
    "\n",
    "5.Finally, we add axis labels, a title, and display the histogram using plt.show().\n",
    "\n",
    "Running this code will generate a histogram showing the frequency of success (1) and failure (0) in the random sample from the binomial distribution."
   ]
  },
  {
   "cell_type": "raw",
   "id": "9e18e106-4dbf-4274-a751-cf2e3f8d8c8b",
   "metadata": {},
   "source": [
    "Q6. Write a Python function to calculate the cumulative distribution function of a Poisson distribution\n",
    "with given mean at a given point.\n",
    "\n",
    "Ans--"
   ]
  },
  {
   "cell_type": "markdown",
   "id": "b9831328-b73e-42f0-b099-4dad6beb1b8f",
   "metadata": {},
   "source": [
    "To calculate the cumulative distribution function (CDF) of a Poisson distribution with a given mean at a given point in Python, you can use the scipy.stats.poisson module, which provides functions for working with Poisson distributions. If you don't have it installed, you can install it using pip install scipy.\n",
    "\n",
    "Here's a Python function to calculate the CDF of a Poisson distribution:"
   ]
  },
  {
   "cell_type": "code",
   "execution_count": 5,
   "id": "a3536397-7047-43e4-87a8-513c5dd5dce5",
   "metadata": {},
   "outputs": [
    {
     "name": "stdout",
     "output_type": "stream",
     "text": [
      "The CDF value at point 3 is: 0.7575761331330662\n"
     ]
    }
   ],
   "source": [
    "from scipy.stats import poisson\n",
    "\n",
    "def poisson_cdf(point, mean):\n",
    "    \"\"\"\n",
    "    Calculate the cumulative distribution function (CDF) of a Poisson distribution\n",
    "    with the given mean at a given point.\n",
    "\n",
    "    Parameters:\n",
    "        point (int): The point at which to calculate the CDF.\n",
    "        mean (float): The mean of the Poisson distribution.\n",
    "\n",
    "    Returns:\n",
    "        float: The cumulative distribution function value at the given point.\n",
    "    \"\"\"\n",
    "    cdf_value = poisson.cdf(point, mean)\n",
    "    return cdf_value\n",
    "\n",
    "# Example usage:\n",
    "mean = 2.5\n",
    "point = 3\n",
    "cdf_value_at_point = poisson_cdf(point, mean)\n",
    "print(f\"The CDF value at point {point} is: {cdf_value_at_point}\")\n"
   ]
  },
  {
   "cell_type": "markdown",
   "id": "3fc4170c-7a9b-409d-93c7-703422417912",
   "metadata": {},
   "source": [
    "In this function, we use poisson.cdf(point, mean) from the scipy.stats.poisson module to calculate the CDF of the Poisson distribution at the specified point with the given mean. The result cdf_value represents the cumulative probability up to that point, and it is returned by the function.\n",
    "\n",
    "Remember to replace mean and point with the appropriate values for your specific case. The mean is the average number of events occurring in a fixed interval, and the point is the value at which you want to calculate the cumulative probability. The function will then return the CDF value at the specified point."
   ]
  },
  {
   "cell_type": "raw",
   "id": "41d85529-fbea-49cc-a14a-ab659c80bc38",
   "metadata": {},
   "source": [
    "Q7. How Binomial distribution different from Poisson distribution?\n",
    "\n",
    "Ans--"
   ]
  },
  {
   "cell_type": "markdown",
   "id": "e90196a3-879a-4709-ac1c-78e0fb004ce0",
   "metadata": {},
   "source": [
    "The Binomial distribution and the Poisson distribution are both probability distributions used to model the number of events or successes in a series of trials or occurrences. However, they differ in key aspects:\n",
    "\n",
    "1.Nature of Trials:\n",
    "\n",
    "--Binomial Distribution: The binomial distribution is used to model a fixed number of independent Bernoulli trials. Each trial can have only two possible outcomes (success or failure), and the probability of success remains constant across all trials.\n",
    "\n",
    "--Poisson Distribution: The Poisson distribution, on the other hand, is used to model the number of rare events occurring in a fixed interval of time or space. Unlike the binomial distribution, it doesn't require a fixed number of trials, and the events occur independently, but their rate of occurrence (lambda) is constant.\n",
    "\n",
    "2.Number of Possible Outcomes:\n",
    "\n",
    "--Binomial Distribution: In the binomial distribution, each trial can have only two possible outcomes (success or failure). The random variable represents the count of successes in a fixed number of trials.\n",
    "\n",
    "--Poisson Distribution: The Poisson distribution is used to model the number of occurrences of a specific event within a fixed interval. It is a discrete distribution with an infinite number of possible outcomes, representing the count of events in that interval.\n",
    "\n",
    "3.Requirements:\n",
    "\n",
    "--Binomial Distribution: To use the binomial distribution, the trials must be independent, and the probability of success (p) remains constant across all trials. Additionally, there must be a fixed number of trials (n).\n",
    "\n",
    "--Poisson Distribution: The Poisson distribution is appropriate when the events are rare and independent, and their rate of occurrence is constant over time or space.\n",
    "\n",
    "4.Parameterization:\n",
    "\n",
    "--Binomial Distribution: The binomial distribution is parameterized by two values: the number of trials (n) and the probability of success in each trial (p).\n",
    "\n",
    "--Poisson Distribution: The Poisson distribution is parameterized by a single value: the average rate of events (lambda) occurring in the given interval.\n",
    "\n",
    "5.Shape of Distribution:\n",
    "\n",
    "--Binomial Distribution: The binomial distribution is typically more skewed, especially when the probability of success is close to 0 or 1, or when the number of trials is small.\n",
    "\n",
    "--Poisson Distribution: The Poisson distribution becomes more symmetrical as the average rate of events increases, and it approaches a normal distribution."
   ]
  },
  {
   "cell_type": "raw",
   "id": "f8a8643e-e430-4901-98bb-64f95cc43039",
   "metadata": {},
   "source": [
    "Q8. Generate a random sample of size 1000 from a Poisson distribution with mean 5 and calculate the\n",
    "sample mean and variance.\n",
    "\n",
    "Ans--"
   ]
  },
  {
   "cell_type": "markdown",
   "id": "80609c33-8f6c-4d3a-818e-c58ee77228fc",
   "metadata": {},
   "source": [
    "To generate a random sample of size 1000 from a Poisson distribution with a mean of 5 and then calculate the sample mean and variance in Python, you can use the numpy library, which provides functions for random number generation and statistical calculations.\n",
    "\n",
    "Here's the Python code to achieve this:"
   ]
  },
  {
   "cell_type": "code",
   "execution_count": 7,
   "id": "afc05420-e276-41ad-89bd-9dd574c72c31",
   "metadata": {},
   "outputs": [
    {
     "name": "stdout",
     "output_type": "stream",
     "text": [
      "Sample Mean: 5.014\n",
      "Sample Variance: 4.862666666666667\n"
     ]
    }
   ],
   "source": [
    "import numpy as np\n",
    "\n",
    "# Set the parameters for the Poisson distribution\n",
    "mean = 5\n",
    "sample_size = 1000\n",
    "\n",
    "# Generate the random sample from the Poisson distribution\n",
    "random_sample = np.random.poisson(mean, sample_size)\n",
    "\n",
    "# Calculate the sample mean and variance\n",
    "sample_mean = np.mean(random_sample)\n",
    "sample_variance = np.var(random_sample, ddof=1)  # Use ddof=1 for unbiased sample variance\n",
    "\n",
    "# Print the results\n",
    "print(\"Sample Mean:\", sample_mean)\n",
    "print(\"Sample Variance:\", sample_variance)"
   ]
  },
  {
   "cell_type": "markdown",
   "id": "f7f18cc1-a49b-4f4a-a7b7-5d41dd7a0ca2",
   "metadata": {},
   "source": [
    "Explanation:\n",
    "\n",
    "1.We import the numpy library as np to use its functions for random number generation and statistical calculations.\n",
    "\n",
    "2.We set the parameters of the Poisson distribution: mean as 5 (average rate of events in the interval) and sample_size as 1000, the size of the random sample we want to generate.\n",
    "\n",
    "3.We use np.random.poisson(mean, sample_size) to generate the random sample. The poisson function generates samples from a Poisson distribution with the specified mean and sample size.\n",
    "\n",
    "4.We then calculate the sample mean using np.mean(random_sample) and the sample variance using np.var(random_sample, ddof=1). The ddof=1 parameter is used to calculate the unbiased sample variance (divides by n-1 instead of n).\n",
    "\n",
    "5.Finally, we print the sample mean and variance."
   ]
  },
  {
   "cell_type": "raw",
   "id": "864bd4c3-8c85-447c-a84f-967619859000",
   "metadata": {},
   "source": [
    "Q9. How mean and variance are related in Binomial distribution and Poisson distribution?\n",
    "\n",
    "Ans--"
   ]
  },
  {
   "cell_type": "markdown",
   "id": "010adb48-dc75-427d-9bd8-d3181b4430c5",
   "metadata": {},
   "source": [
    "The mean and variance of a probability distribution provide essential information about its central tendency and spread, respectively. The relationship between the mean (μ) and variance (σ^2) differs between the Binomial distribution and the Poisson distribution.\n",
    "\n",
    "1.Binomial Distribution:\n",
    "\n",
    "--Mean (μ): In the case of a binomial distribution, the mean (μ) is given by the product of the number of trials (n) and the probability of success in each trial (p). Mathematically, μ = n * p.\n",
    "\n",
    "--Variance (σ^2): The variance of a binomial distribution is the product of the number of trials (n), the probability of success in each trial (p), and the probability of failure (1 - p). Mathematically, σ^2 = n * p * (1 - p).\n",
    "\n",
    "The variance of the binomial distribution is influenced by the number of trials and the probability of success in each trial. As the number of trials increases or the probability of success gets closer to 0.5, the variance tends to increase, making the distribution more spread out.\n",
    "\n",
    "2.Poisson Distribution:\n",
    "\n",
    "--Mean (μ): In the case of a Poisson distribution, the mean (μ) is equal to the lambda parameter (λ), which represents the average rate of events occurring in a fixed interval of time or space.\n",
    "\n",
    "--Variance (σ^2): The variance of a Poisson distribution is also equal to the lambda parameter (λ).\n",
    "\n",
    "In the Poisson distribution, the mean and variance are equal. This property is unique to the Poisson distribution and is not shared by other common distributions like the binomial or normal distributions. When λ is large, the Poisson distribution becomes approximately normal, and the mean and variance being equal is consistent with the properties of the normal distribution."
   ]
  },
  {
   "cell_type": "raw",
   "id": "9c99832b-1b03-4b61-878f-199a41d09496",
   "metadata": {},
   "source": [
    "Q10. In normal distribution with respect to mean position, where does the least frequent data appear?\n",
    "\n",
    "Ans--"
   ]
  },
  {
   "cell_type": "markdown",
   "id": "3b2c65bd-e30a-403a-9a8b-ea7dfbdb09d9",
   "metadata": {},
   "source": [
    "In a normal distribution, the least frequent data points appear in the tails of the distribution, farthest away from the mean position. The normal distribution is a symmetric distribution, which means it is perfectly balanced around its mean.\n",
    "\n",
    "The mean of a normal distribution is the central point of the distribution and is also the highest point of the bell-shaped curve. As you move away from the mean in both directions, the frequency of data points gradually decreases, creating the tails of the distribution.\n",
    "\n",
    "The tails of the normal distribution extend infinitely in both directions, but the probability of observing data far away from the mean becomes increasingly smaller. This is because the normal distribution follows the 68-95-99.7 rule, also known as the empirical rule or the 3-sigma rule, which states that:\n",
    "\n",
    "--Approximately 68% of the data falls within one standard deviation (σ) of the mean.\n",
    "\n",
    "--Approximately 95% of the data falls within two standard deviations (2σ) of the mean.\n",
    "\n",
    "--Approximately 99.7% of the data falls within three standard deviations (3σ) of the mean.\n",
    "\n",
    "Beyond three standard deviations from the mean, the data points become extremely rare and the frequency drops significantly. These extreme values are found in the tails of the distribution."
   ]
  },
  {
   "cell_type": "code",
   "execution_count": null,
   "id": "06146b05-244c-4a9f-a2bd-87c1e1585bdf",
   "metadata": {},
   "outputs": [],
   "source": []
  }
 ],
 "metadata": {
  "kernelspec": {
   "display_name": "Python 3 (ipykernel)",
   "language": "python",
   "name": "python3"
  },
  "language_info": {
   "codemirror_mode": {
    "name": "ipython",
    "version": 3
   },
   "file_extension": ".py",
   "mimetype": "text/x-python",
   "name": "python",
   "nbconvert_exporter": "python",
   "pygments_lexer": "ipython3",
   "version": "3.10.8"
  }
 },
 "nbformat": 4,
 "nbformat_minor": 5
}
